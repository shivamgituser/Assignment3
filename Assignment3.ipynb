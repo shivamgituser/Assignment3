{
 "cells": [
  {
   "cell_type": "markdown",
   "metadata": {},
   "source": [
    "# Task1-Quetsion:1"
   ]
  },
  {
   "cell_type": "code",
   "execution_count": 1,
   "metadata": {},
   "outputs": [],
   "source": [
    "def function():\n",
    "    try:\n",
    "        a=5/0\n",
    "        print(\"calculated valueof 5/0 is:\",a)\n",
    "    except:\n",
    "        print(\"Error Occured 5 cannot be divided by zero\")\n",
    "        "
   ]
  },
  {
   "cell_type": "code",
   "execution_count": 2,
   "metadata": {},
   "outputs": [
    {
     "name": "stdout",
     "output_type": "stream",
     "text": [
      "Error Occured 5 cannot be divided by zero\n"
     ]
    }
   ],
   "source": [
    "function()"
   ]
  },
  {
   "cell_type": "markdown",
   "metadata": {},
   "source": [
    "# Task1-question:2"
   ]
  },
  {
   "cell_type": "code",
   "execution_count": 3,
   "metadata": {},
   "outputs": [
    {
     "name": "stdout",
     "output_type": "stream",
     "text": [
      "American Play Baseball\n",
      "American Play cricket\n",
      "American watch Baseball\n",
      "American watch cricket\n",
      "Indians Play Baseball\n",
      "Indians Play cricket\n",
      "Indians watch Baseball\n",
      "Indians watch cricket\n"
     ]
    }
   ],
   "source": [
    "games=[\"Baseball\",\"cricket\"]\n",
    "activity=[\"Play\", \"watch\"]\n",
    "country=[\"American\",\"Indians\"]\n",
    "for k in [x+\" \"+y+\" \"+z for x in country for y in activity for z in games]:\n",
    "    print(k)\n",
    "    \n",
    "       "
   ]
  },
  {
   "cell_type": "markdown",
   "metadata": {},
   "source": [
    "# Task2-Question:1\n"
   ]
  },
  {
   "cell_type": "code",
   "execution_count": 17,
   "metadata": {},
   "outputs": [],
   "source": [
    "def Output_Power_matrix(vector,num_of_cols,increasing=False):\n",
    "    \n",
    "    if not increasing:\n",
    "        res=[[x**(num_of_cols-i-1) for i in range(num_of_cols)] for x in vector]\n",
    "    else:\n",
    "        res=[[x**i for i in range(num_of_cols)]  for x in vector]\n",
    "        \n",
    "    for i in res:\n",
    "        for element in i:\n",
    "            print(element,end=' ')\n",
    "        print()\n",
    "        \n",
    "    "
   ]
  },
  {
   "cell_type": "code",
   "execution_count": 18,
   "metadata": {},
   "outputs": [
    {
     "name": "stdout",
     "output_type": "stream",
     "text": [
      "enter your vector1 2 3 4\n",
      "enter number of columns4\n",
      "1 1 1 1 \n",
      "8 4 2 1 \n",
      "27 9 3 1 \n",
      "64 16 4 1 \n"
     ]
    }
   ],
   "source": [
    "vector=[int(x) for x in input(\"enter your vector\").split()]\n",
    "num_of_cols=int(input(\"enter number of columns\"))\n",
    "l=Output_Power_matrix(vector,num_of_cols,False)\n"
   ]
  },
  {
   "cell_type": "code",
   "execution_count": 19,
   "metadata": {},
   "outputs": [
    {
     "name": "stdout",
     "output_type": "stream",
     "text": [
      "enter your vector1 2 3 4 5\n",
      "enter number of columns5\n",
      "1 1 1 1 1 \n",
      "1 2 4 8 16 \n",
      "1 3 9 27 81 \n",
      "1 4 16 64 256 \n",
      "1 5 25 125 625 \n"
     ]
    }
   ],
   "source": [
    "vector=[int(x) for x in input(\"enter your vector\").split()]\n",
    "num_of_cols=int(input(\"enter number of columns\"))\n",
    "Output_Power_matrix(vector,num_of_cols,True)\n"
   ]
  },
  {
   "cell_type": "code",
   "execution_count": null,
   "metadata": {},
   "outputs": [],
   "source": []
  },
  {
   "cell_type": "code",
   "execution_count": null,
   "metadata": {},
   "outputs": [],
   "source": []
  }
 ],
 "metadata": {
  "kernelspec": {
   "display_name": "Python 3",
   "language": "python",
   "name": "python3"
  },
  "language_info": {
   "codemirror_mode": {
    "name": "ipython",
    "version": 3
   },
   "file_extension": ".py",
   "mimetype": "text/x-python",
   "name": "python",
   "nbconvert_exporter": "python",
   "pygments_lexer": "ipython3",
   "version": "3.7.3"
  }
 },
 "nbformat": 4,
 "nbformat_minor": 2
}
